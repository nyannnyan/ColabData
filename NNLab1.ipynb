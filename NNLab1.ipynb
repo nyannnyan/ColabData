{
  "nbformat": 4,
  "nbformat_minor": 0,
  "metadata": {
    "colab": {
      "provenance": [],
      "authorship_tag": "ABX9TyPeheRzGvadOycgNATjkrRy",
      "include_colab_link": true
    },
    "kernelspec": {
      "name": "python3",
      "display_name": "Python 3"
    },
    "language_info": {
      "name": "python"
    }
  },
  "cells": [
    {
      "cell_type": "markdown",
      "metadata": {
        "id": "view-in-github",
        "colab_type": "text"
      },
      "source": [
        "<a href=\"https://colab.research.google.com/github/nyannnyan/ColabData/blob/main/NNLab1.ipynb\" target=\"_parent\"><img src=\"https://colab.research.google.com/assets/colab-badge.svg\" alt=\"Open In Colab\"/></a>"
      ]
    },
    {
      "cell_type": "code",
      "execution_count": 1,
      "metadata": {
        "colab": {
          "base_uri": "https://localhost:8080/"
        },
        "id": "zArRFyvDcKBl",
        "outputId": "9977c4e2-1f9d-416d-b531-def3348cf344"
      },
      "outputs": [
        {
          "output_type": "stream",
          "name": "stdout",
          "text": [
            "[0 0 0 1]\n"
          ]
        }
      ],
      "source": [
        "from sklearn.neural_network import MLPClassifier\n",
        "\n",
        "# ANDの入力と出力\n",
        "X = [[0., 0.], [0., 1.], [1., 0.], [1., 1.]]\n",
        "y = [0, 0, 0, 1]\n",
        "\n",
        "# 隠れ層なし、線形活性化関数、lbfgsソルバー\n",
        "clf = MLPClassifier(hidden_layer_sizes=(), activation='identity', solver='lbfgs')\n",
        "clf.fit(X, y)\n",
        "\n",
        "# 予測を確認\n",
        "print(clf.predict(X))"
      ]
    },
    {
      "cell_type": "code",
      "source": [
        "# ORの入力と出力\n",
        "X = [[0., 0.], [0., 1.], [1., 0.], [1., 1.]]\n",
        "y = [0, 1, 1, 1]\n",
        "\n",
        "# 隠れ層なし、線形活性化関数、lbfgsソルバー\n",
        "clf = MLPClassifier(hidden_layer_sizes=(), activation='identity', solver='lbfgs')\n",
        "clf.fit(X, y)\n",
        "\n",
        "# 予測を確認\n",
        "print(clf.predict(X))"
      ],
      "metadata": {
        "colab": {
          "base_uri": "https://localhost:8080/"
        },
        "id": "PKx7ovUbcV2b",
        "outputId": "85f261e3-ff5a-4799-89c4-21b6bde0a5cd"
      },
      "execution_count": 2,
      "outputs": [
        {
          "output_type": "stream",
          "name": "stdout",
          "text": [
            "[0 1 1 1]\n"
          ]
        }
      ]
    },
    {
      "cell_type": "code",
      "source": [
        "# XORの入力と出力\n",
        "X = [[0., 0.], [0., 1.], [1., 0.], [1., 1.]]\n",
        "y = [0, 1, 1, 0]\n",
        "\n",
        "# 隠れ層なし、線形活性化関数、lbfgsソルバー\n",
        "clf = MLPClassifier(hidden_layer_sizes=(), activation='identity', solver='lbfgs')\n",
        "clf.fit(X, y)\n",
        "\n",
        "# 予測を確認\n",
        "print(clf.predict(X))"
      ],
      "metadata": {
        "colab": {
          "base_uri": "https://localhost:8080/"
        },
        "id": "aT7d2NT0cZ6o",
        "outputId": "493897ec-aede-4de4-cb5e-8b5a93f5cb7d"
      },
      "execution_count": 3,
      "outputs": [
        {
          "output_type": "stream",
          "name": "stdout",
          "text": [
            "[1 1 0 0]\n"
          ]
        }
      ]
    },
    {
      "cell_type": "code",
      "source": [
        "clf = MLPClassifier(hidden_layer_sizes=(4, 2), activation='identity', solver='lbfgs')\n",
        "clf.fit(X, y)\n",
        "\n",
        "print(clf.predict(X))"
      ],
      "metadata": {
        "colab": {
          "base_uri": "https://localhost:8080/"
        },
        "id": "5RLiwkJVccIO",
        "outputId": "e0bde90f-42ef-4a6f-e737-395d5eef7e9d"
      },
      "execution_count": 4,
      "outputs": [
        {
          "output_type": "stream",
          "name": "stdout",
          "text": [
            "[0 0 0 1]\n"
          ]
        }
      ]
    },
    {
      "cell_type": "code",
      "source": [
        "from sklearn.neural_network import MLPClassifier\n",
        "\n",
        "clf = MLPClassifier(hidden_layer_sizes=(4, 2), activation='tanh', solver='lbfgs', max_iter=1000)\n",
        "\n",
        "for i in range(10):\n",
        "    clf.fit(X, y)\n",
        "    print(f\"試行{i}: 予測値 = {clf.predict(X)}\")"
      ],
      "metadata": {
        "colab": {
          "base_uri": "https://localhost:8080/"
        },
        "id": "WughJ2cZcf-C",
        "outputId": "8d3ed486-8824-4fdb-9083-7a086af1e47d"
      },
      "execution_count": 5,
      "outputs": [
        {
          "output_type": "stream",
          "name": "stdout",
          "text": [
            "試行0: 予測値 = [0 1 1 0]\n",
            "試行1: 予測値 = [0 1 1 0]\n",
            "試行2: 予測値 = [0 1 1 0]\n",
            "試行3: 予測値 = [0 1 1 0]\n",
            "試行4: 予測値 = [0 1 1 0]\n",
            "試行5: 予測値 = [0 1 1 0]\n",
            "試行6: 予測値 = [0 1 1 0]\n",
            "試行7: 予測値 = [0 1 1 0]\n",
            "試行8: 予測値 = [0 1 1 0]\n",
            "試行9: 予測値 = [0 1 1 0]\n"
          ]
        }
      ]
    },
    {
      "cell_type": "code",
      "source": [
        "from sklearn.datasets import load_digits\n",
        "from sklearn.model_selection import train_test_split\n",
        "from sklearn.neural_network import MLPClassifier\n",
        "from sklearn.metrics import accuracy_score\n",
        "\n",
        "dataset = load_digits()\n",
        "X = dataset.data\n",
        "y = dataset.target\n",
        "\n",
        "train_X, test_X, train_y, test_y = train_test_split(X, y, test_size=0.1)\n",
        "\n",
        "# 隠れ層2つ(50ノード、20ノード)、relu活性化関数、adamソルバー\n",
        "clf = MLPClassifier(hidden_layer_sizes=(50, 20), activation='relu', solver='adam', max_iter=500)\n",
        "clf.fit(train_X, train_y)\n",
        "\n",
        "test_y_pred = clf.predict(test_X)\n",
        "acc = accuracy_score(test_y, test_y_pred)\n",
        "print(f\"テストデータに対する正解率: {acc*100:.2f}%\")"
      ],
      "metadata": {
        "colab": {
          "base_uri": "https://localhost:8080/"
        },
        "id": "4qsMGA8JcjDc",
        "outputId": "b6a2e14a-ce2b-4ec0-cb33-8699a6afe7e2"
      },
      "execution_count": 6,
      "outputs": [
        {
          "output_type": "stream",
          "name": "stdout",
          "text": [
            "テストデータに対する正解率: 96.11%\n"
          ]
        }
      ]
    }
  ]
}