from sklearn.neural_network import MLPClassifier

# ANDの入力と出力
X = [[0., 0.], [0., 1.], [1., 0.], [1., 1.]] 
y = [0, 0, 0, 1]

# 隠れ層なし、線形活性化関数、lbfgsソルバー
clf = MLPClassifier(hidden_layer_sizes=(), activation='identity', solver='lbfgs')
clf.fit(X, y)

# 予測を確認
print(clf.predict(X))
